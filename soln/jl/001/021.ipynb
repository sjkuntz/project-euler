{
 "cells": [
  {
   "cell_type": "markdown",
   "metadata": {},
   "source": [
    "\n",
    "# Table of Contents\n",
    "\n",
    "\n",
    "\n",
    "Initialize Python session with imports.\n",
    "\n"
   ]
  },
  {
   "cell_type": "code",
   "execution_count": 1,
   "metadata": {},
   "outputs": [],
   "source": [
    "from bitarray import bitarray\n",
    "import numpy as np\n",
    "from math import ceil, factorial, log, log10, sqrt\n",
    "import timeit"
   ]
  },
  {
   "cell_type": "markdown",
   "metadata": {},
   "source": [
    "## 21 Amicable numbers\n",
    "\n"
   ]
  },
  {
   "cell_type": "markdown",
   "metadata": {},
   "source": [
    "### Q:\n",
    "\n"
   ]
  },
  {
   "cell_type": "markdown",
   "metadata": {},
   "source": [
    "Let d(n) be defined as the sum of proper divisors of n (numbers less than n\n",
    "which divide evenly into n).\n",
    "\n",
    "If d(a) = b and d(b) = a, where a ≠ b, then a and b are an amicable pair and\n",
    "each of a and b are called amicable numbers.\n",
    "\n",
    "For example, the proper divisors of 220 are 1, 2, 4, 5, 10, 11, 20, 22, 44, 55\n",
    "and 110; therefore d(220) = 284. The proper divisors of 284 are 1, 2, 4, 71 and\n",
    "142; so d(284) = 220.\n",
    "\n",
    "Evaluate the sum of all the amicable numbers under 10000.\n",
    "\n"
   ]
  },
  {
   "cell_type": "markdown",
   "metadata": {},
   "source": [
    "### A:\n",
    "\n"
   ]
  },
  {
   "cell_type": "markdown",
   "metadata": {},
   "source": [
    "This is actually a fairly straightforward problem if we have some way to look up\n",
    "the sum of divisors for any number less than our upper limit. Firstly, we need\n",
    "some way to sieve for the sum of divisors. The follow function accomplishes this\n",
    "by iterating over all the divisors, adding itself and its quotient at all the\n",
    "multiples.\n",
    "\n"
   ]
  },
  {
   "cell_type": "code",
   "execution_count": 2,
   "metadata": {},
   "outputs": [],
   "source": [
    "def sum_divisors_sieve(n,proper=True):\n",
    "    \"\"\"Sieve for the sum of proper divisors for natural numbers less than ``n``.\n",
    "    Optionally, we can include the number itself with ``proper=False``.\"\"\"\n",
    "    dsum = np.ones(n,dtype=int)\n",
    "    dsum[:2] = 0\n",
    "    for i in range(2,int((n-1)**0.5)+1):\n",
    "        dsum[i*i] += i\n",
    "        dsum[i*(i+1)::i] += i + np.arange(i+1,(n-1)//i+1)\n",
    "    if not proper:\n",
    "        dsum += np.arange(0,n)\n",
    "    return dsum\n",
    "\n",
    "assert(sum_divisors_sieve(10,True ) == [0,0,1,1,3,1,6,1,7,4]).all()\n",
    "assert(sum_divisors_sieve(10,False) == [0,1,3,4,7,6,12,8,15,13]).all()"
   ]
  },
  {
   "cell_type": "markdown",
   "metadata": {},
   "source": [
    "Now we can use this function to find all the amicable pairs under the chosen\n",
    "limit. Since the array `dsum[a]` is analogous to the $d(a)$ function in the\n",
    "problem statement, let's define the amicable pair `(b,a)` as\n",
    "\n",
    "1.  `dsum(a)=b`\n",
    "2.  `dsum(b)=a`\n",
    "3.  `a>b`\n",
    "\n",
    "Using this definition, we make sure to avoid counting perfect numbers, and make\n",
    "sure that every pair we return is unique. The function returns a list of tuples.\n",
    "I realize this is awkward to sum up later, but I felt it followed the\n",
    "mathematics more closely to do it that way.\n",
    "\n"
   ]
  },
  {
   "cell_type": "code",
   "execution_count": 3,
   "metadata": {},
   "outputs": [],
   "source": [
    "def amicable_pairs(n):\n",
    "    \"\"\"Find all the amicable pairs less than ``n``.\"\"\"\n",
    "    dsum = sum_divisors_sieve(n)\n",
    "    pairs = []\n",
    "    for a in range(1,n):\n",
    "        if a>dsum[a]:\n",
    "            if dsum[dsum[a]]==a:\n",
    "                pairs += [(dsum[a],a)]\n",
    "    return pairs\n",
    "\n",
    "assert amicable_pairs(284)==[]\n",
    "assert amicable_pairs(285)[0]==(220,284)"
   ]
  },
  {
   "cell_type": "markdown",
   "metadata": {},
   "source": [
    "We finally have to sum up all the numbers in the list of tuples.\n",
    "\n"
   ]
  },
  {
   "cell_type": "code",
   "execution_count": 4,
   "metadata": {},
   "outputs": [
    {
     "name": "stdout",
     "output_type": "stream",
     "text": [
      "31626\n",
      "4.58 ms ± 474 µs per loop (mean ± std. dev. of 7 runs, 100 loops each)\n"
     ]
    }
   ],
   "source": [
    "print(sum([sum(pair) for pair in amicable_pairs(10000)]))\n",
    "%timeit sum([sum(pair) for pair in amicable_pairs(10000)])"
   ]
  },
  {
   "cell_type": "markdown",
   "metadata": {},
   "source": [
    "## 22 Names scores\n",
    "\n"
   ]
  },
  {
   "cell_type": "markdown",
   "metadata": {},
   "source": [
    "### Q:\n",
    "\n"
   ]
  },
  {
   "cell_type": "markdown",
   "metadata": {},
   "source": [
    "Using names.txt (right click and 'Save Link/Target As&#x2026;'), a 46K text file\n",
    "containing over five-thousand first names, begin by sorting it into alphabetical\n",
    "order. Then working out the alphabetical value for each name, multiply this\n",
    "value by its alphabetical position in the list to obtain a name score.\n",
    "\n",
    "For example, when the list is sorted into alphabetical order, COLIN, which is\n",
    "worth 3 + 15 + 12 + 9 + 14 = 53, is the 938th name in the list. So, COLIN would\n",
    "obtain a score of 938 × 53 = 49714.\n",
    "\n",
    "What is the total of all the name scores in the file?\n",
    "\n"
   ]
  },
  {
   "cell_type": "markdown",
   "metadata": {},
   "source": [
    "### A:\n",
    "\n"
   ]
  },
  {
   "cell_type": "markdown",
   "metadata": {},
   "source": [
    "I hate text problems. We'll read this file into a `numpy.array` of strings.\n",
    "\n"
   ]
  },
  {
   "cell_type": "code",
   "execution_count": 5,
   "metadata": {},
   "outputs": [],
   "source": [
    "def read_words(filename):\n",
    "    \"\"\"Read a list of words from file.\"\"\"\n",
    "    with open(filename) as file:\n",
    "        words = []\n",
    "        for line in file:\n",
    "            words += line.replace(\"\\\"\", \"\").split(\",\")\n",
    "    return np.array(words)"
   ]
  },
  {
   "cell_type": "markdown",
   "metadata": {},
   "source": [
    "We need a way to find the alphabetical value of a word or list of words\n",
    "\n"
   ]
  },
  {
   "cell_type": "code",
   "execution_count": 6,
   "metadata": {},
   "outputs": [],
   "source": [
    "def alphabetical_value(word):\n",
    "    \"\"\"Get the alphabetical value for a word or list of words.\"\"\"\n",
    "    if isinstance(word, str):\n",
    "        word = [word]\n",
    "    values = np.zeros(len(word), dtype=int)\n",
    "    for i, word_i in enumerate(word):\n",
    "        values[i] = sum([(ord(c)-64)%32 for c in word_i])\n",
    "    return values\n",
    "\n",
    "assert alphabetical_value(\"Bob\") == 19\n",
    "assert (alphabetical_value([\"Bob\", \"Alice\"]) == [19, 30]).all()"
   ]
  },
  {
   "cell_type": "markdown",
   "metadata": {},
   "source": [
    "Since our names are in a `numpy.array`, sorting is trivial. Given that, multiply\n",
    "their alphabetical value by their index and print the total.\n",
    "\n"
   ]
  },
  {
   "cell_type": "code",
   "execution_count": 7,
   "metadata": {},
   "outputs": [
    {
     "name": "stdout",
     "output_type": "stream",
     "text": [
      "871198282\n",
      "7.45 ms ± 718 µs per loop (mean ± std. dev. of 7 runs, 100 loops each)\n"
     ]
    }
   ],
   "source": [
    "names = np.sort(read_words(\"022.txt\"))\n",
    "print(sum(np.multiply(alphabetical_value(names),np.arange(1,len(names)+1))))\n",
    "\n",
    "%timeit names = np.sort(read_words(\"022.txt\")); sum(np.multiply(alphabetical_value(names),np.arange(1,len(names)+1)))"
   ]
  },
  {
   "cell_type": "markdown",
   "metadata": {},
   "source": [
    "## 23 Non-abundant sums\n",
    "\n"
   ]
  },
  {
   "cell_type": "markdown",
   "metadata": {},
   "source": [
    "### Q:\n",
    "\n"
   ]
  },
  {
   "cell_type": "markdown",
   "metadata": {},
   "source": [
    "A perfect number is a number for which the sum of its proper divisors is exactly\n",
    "equal to the number. For example, the sum of the proper divisors of 28 would be\n",
    "1 + 2 + 4 + 7 + 14 = 28, which means that 28 is a perfect number.\n",
    "\n",
    "A number n is called deficient if the sum of its proper divisors is less than n\n",
    "and it is called abundant if this sum exceeds n.\n",
    "\n",
    "As 12 is the smallest abundant number, 1 + 2 + 3 + 4 + 6 = 16, the smallest\n",
    "number that can be written as the sum of two abundant numbers is 24. By\n",
    "mathematical analysis, it can be shown that all integers greater than 28123 can\n",
    "be written as the sum of two abundant numbers. However, this upper limit cannot\n",
    "be reduced any further by analysis even though it is known that the greatest\n",
    "number that cannot be expressed as the sum of two abundant numbers is less than\n",
    "this limit.\n",
    "\n",
    "Find the sum of all the positive integers which cannot be written as the sum of\n",
    "two abundant numbers.\n",
    "\n"
   ]
  },
  {
   "cell_type": "markdown",
   "metadata": {},
   "source": [
    "### A:\n",
    "\n"
   ]
  },
  {
   "cell_type": "markdown",
   "metadata": {},
   "source": [
    "This problem stands out among the Euler problems because it does not scale. In\n",
    "fact, it can't scale. It says so in the problem statement. \"All integers greater\n",
    "than 28123 can be written as the sum of two abundant numbers.\" Given this, we\n",
    "have no real need to make the problem scalable, but we can make it fast. Let's\n",
    "start by finding all the abundant numbers, making sure to employ the sum of\n",
    "divisors sieve from problem 21. We can also use a similar strategy for the\n",
    "deficient numbers and perfect numbers if we so desire, but that is beyond the\n",
    "scope of the problem at hand.\n",
    "\n"
   ]
  },
  {
   "cell_type": "code",
   "execution_count": 8,
   "metadata": {},
   "outputs": [],
   "source": [
    "def abundant_numbers(n):\n",
    "    \"\"\"Find all the abundant numbers less than ``n``.\"\"\"\n",
    "    dsum = sum_divisors_sieve(n)\n",
    "    return np.array([i for i, d in enumerate(dsum) if i<d])\n",
    "\n",
    "assert len(abundant_numbers(12))==0\n",
    "assert abundant_numbers(13)==[12]\n",
    "assert(abundant_numbers(20)==[12,18]).all()"
   ]
  },
  {
   "cell_type": "markdown",
   "metadata": {},
   "source": [
    "Now that we have the abundant numbers, we simply need to sieve over the abundant\n",
    "numbers. Now, according to [Wolfram Alpha](http://mathworld.wolfram.com/AbundantNumber.html), the last number that we are searching\n",
    "for is actually 20161, so I'll cap our search at 20162. I reused the caching\n",
    "strategy from problem 5 to save memory, this time using a `numpy.array` of\n",
    "`np.bool`. For each abundant number $a<n$, I sliced our list of abundant\n",
    "numbers for all $b<n-a$, and sliced the cache for all indices $a+b$, setting\n",
    "the cache at those indices to `False`. Finally, I construct a `numpy.array`\n",
    "which contains all `i` such that `cache[i]` is `True`.\n",
    "\n"
   ]
  },
  {
   "cell_type": "code",
   "execution_count": 9,
   "metadata": {},
   "outputs": [],
   "source": [
    "def nonabundant_sums(n=20162):\n",
    "    \"\"\"Find all the positive integers less than ``n`` which cannot be written as\n",
    "    the sum of two abundant numbers.\"\"\"\n",
    "    n = 20162 if n>20162 else n\n",
    "\n",
    "    cache = np.ones(n,dtype=np.bool)\n",
    "    cache[0] = False # 0 is not positive\n",
    "\n",
    "    ab = abundant_numbers(n)\n",
    "    for a in ab:\n",
    "        cache[a+ab[ab<n-a]] = False\n",
    "\n",
    "    return np.array([i for i in range(0,n) if cache[i]])\n",
    "\n",
    "assert sum(nonabundant_sums(24))==276\n",
    "assert sum(nonabundant_sums(25))==276\n",
    "assert sum(nonabundant_sums(30))==411\n",
    "assert sum(nonabundant_sums(31))==411"
   ]
  },
  {
   "cell_type": "markdown",
   "metadata": {},
   "source": [
    "The final result is pretty fast. The most savings made are in the list slicing\n",
    "techniques from the `sum_divisors_sieve` and `nonabundant_sums` functions.\n",
    "\n"
   ]
  },
  {
   "cell_type": "code",
   "execution_count": 10,
   "metadata": {},
   "outputs": [
    {
     "name": "stdout",
     "output_type": "stream",
     "text": [
      "4179871\n",
      "65.3 ms ± 4.06 ms per loop (mean ± std. dev. of 7 runs, 10 loops each)\n"
     ]
    }
   ],
   "source": [
    "print(sum(nonabundant_sums()))\n",
    "%timeit sum(nonabundant_sums())"
   ]
  },
  {
   "cell_type": "markdown",
   "metadata": {},
   "source": [
    "## 24 Lexicographic permutations\n",
    "\n"
   ]
  },
  {
   "cell_type": "markdown",
   "metadata": {},
   "source": [
    "### Q:\n",
    "\n"
   ]
  },
  {
   "cell_type": "markdown",
   "metadata": {},
   "source": [
    "A permutation is an ordered arrangement of objects. For example, 3124 is one\n",
    "possible permutation of the digits 1, 2, 3 and 4. If all of the permutations are\n",
    "listed numerically or alphabetically, we call it lexicographic order. The\n",
    "lexicographic permutations of 0, 1 and 2 are:\n",
    "\n",
    "012   021   102   120   201   210\n",
    "\n",
    "What is the millionth lexicographic permutation of the digits 0, 1, 2, 3, 4, 5,\n",
    "6, 7, 8 and 9?\n",
    "\n"
   ]
  },
  {
   "cell_type": "markdown",
   "metadata": {},
   "source": [
    "### A:\n",
    "\n"
   ]
  },
  {
   "cell_type": "markdown",
   "metadata": {},
   "source": [
    "To solve this with brute force, we would iterate up to the $k$th permutation.\n",
    "That's $O(k)$ in run time, which is $O(n!)$ for the worst case. However,\n",
    "there's a combinatoric shortcut that lets us do this in $O(n)$ time. I could\n",
    "easily iterate through one million permutations, but it's not very hard to\n",
    "generalize with that shortcut. Consider the characters $a_0,a_1,...,a_{n-1}$.\n",
    "We want the fastest way to find the $k$th lexicographic permutation of these\n",
    "characters. First, consider how many permutations there are where $a_0$ is the\n",
    "leading character. \n",
    "\n",
    "\\begin{eqnarray*}\n",
    "a_0 a_1 \\ldots a_{n-2} a_{n-1} \\\\\n",
    "a_0 a_1 \\ldots a_{n-1} a_{n-2} \\\\\n",
    "\\ldots \\\\\n",
    "a_0 a_{n-1} \\ldots a_1 a_2 \\\\\n",
    "a_0 a_{n-1} \\ldots a_2 a_1\n",
    "\\end{eqnarray*}\n",
    "\n",
    "With $a_0$ fixed, we have $n-1$ more characters to permute, which gives\n",
    "$(n-1)!$ ways to order the remaining characters. If and only if\n",
    "$k\\leq(n-1)!$, we know that $a_0$ must come first in the permutation. We\n",
    "also know the $(n-1)!+1$th permutation must begin with $a_1$ since it\n",
    "follows lexicographically.\n",
    "\n",
    "$$ p_{(n-1)!}   = a_0 a_{n-1} \\ldots a_2 a_1 $$\n",
    "\n",
    "$$ p_{(n-1)!+1} = a_1 a_0 a_2 a_3 \\ldots a_{n-2} a_{n-1} $$\n",
    "\n",
    "Again, there are $(n-1)!$ consecutive permutations where $a_1$ is the\n",
    "leading character. In fact, for every $a_i,i < n$, there are $(n-1)!$\n",
    "permutations where it is the leading character. This makes it very easy to\n",
    "figure out what character is the leading character. Let $a_i$ be the leading\n",
    "character for the $k$th permutation. We can find $i$ using the following\n",
    "equation.\n",
    "\n",
    "$$ i = \\lfloor (k-1)/(n-1)! \\rfloor $$\n",
    "\n",
    "Let's test this on the example in the problem statement. What's the first\n",
    "character in the 4th permutation of 0,1,2?\n",
    "\n",
    "$$ i = \\lfloor (4-1)/(3-1)! \\rfloor = \\lfloor 3/2 \\rfloor = 1 $$\n",
    "\n",
    "What's the first character in the 5th permutation of 0,1,2?\n",
    "\n",
    "$$ i = \\lfloor (5-1)/(3-1)! \\rfloor = \\lfloor 4/2 \\rfloor = 2 $$\n",
    "\n",
    "Now we can figure out the first character with relative ease, but what about the\n",
    "remaining characters? Well, if we consider the first character fixed, we now\n",
    "have a new problem with only $n-1$ characters. The problem is recursive. The\n",
    "new $k$ to feed into the next iteration of the algorithm is found by the\n",
    "remainder after dividing by $(n-1)!$.\n",
    "\n",
    "$$ k'-1 \\equiv (k-1)\\mod(n-1)! $$\n",
    "\n",
    "Recursion is a crime against humanity, so here is the algorithm in a while loop,\n",
    "and tests for all the problem statement examples.\n",
    "\n"
   ]
  },
  {
   "cell_type": "code",
   "execution_count": 11,
   "metadata": {},
   "outputs": [],
   "source": [
    "def get_kth_permutation(char_list,k):\n",
    "    \"\"\"Find the ``k``th lexicographic permutation of a list of characters,\n",
    "    ``char_list``.\"\"\"\n",
    "    if k<1 or k>factorial(len(char_list)):\n",
    "        return None\n",
    "    perm_list = []\n",
    "    while len(char_list)>1 and k>1:\n",
    "        fact = factorial(len(char_list)-1)\n",
    "        i = (k-1)//fact\n",
    "        k = (k-1)%fact + 1\n",
    "        perm_list += [char_list[i]]\n",
    "        char_list.pop(i)\n",
    "    perm_list += char_list\n",
    "    return perm_list\n",
    "\n",
    "assert get_kth_permutation([0,1,2],0) is None\n",
    "assert get_kth_permutation([0,1,2],1) == [0,1,2]\n",
    "assert get_kth_permutation([0,1,2],2) == [0,2,1]\n",
    "assert get_kth_permutation([0,1,2],3) == [1,0,2]\n",
    "assert get_kth_permutation([0,1,2],4) == [1,2,0]\n",
    "assert get_kth_permutation([0,1,2],5) == [2,0,1]\n",
    "assert get_kth_permutation([0,1,2],6) == [2,1,0]\n",
    "assert get_kth_permutation([0,1,2],7) == None"
   ]
  },
  {
   "cell_type": "markdown",
   "metadata": {},
   "source": [
    "The final code runs in $O(n)$, where $n$ is the number of characters.\n",
    "\n"
   ]
  },
  {
   "cell_type": "code",
   "execution_count": 12,
   "metadata": {},
   "outputs": [
    {
     "name": "stdout",
     "output_type": "stream",
     "text": [
      "[2, 7, 8, 3, 9, 1, 5, 4, 6, 0]\n",
      "3.94 µs ± 133 ns per loop (mean ± std. dev. of 7 runs, 100000 loops each)\n"
     ]
    }
   ],
   "source": [
    "print(get_kth_permutation(list(range(0,10)),1000000))\n",
    "%timeit get_kth_permutation(list(range(0,10)),1000000)"
   ]
  },
  {
   "cell_type": "markdown",
   "metadata": {},
   "source": [
    "## 25 1000-digit Fibonacci number\n",
    "\n"
   ]
  },
  {
   "cell_type": "markdown",
   "metadata": {},
   "source": [
    "### Q:\n",
    "\n"
   ]
  },
  {
   "cell_type": "markdown",
   "metadata": {},
   "source": [
    "The Fibonacci sequence is defined by the recurrence relation:\n",
    "\n",
    "$F_n = F_{n−1} + F_{n−2}$, where $F_1 = 1$ and $F_2 = 1$.\n",
    "\n",
    "Hence the first 12 terms will be:\n",
    "\n",
    "\\begin{eqnarray*}\n",
    "F_1 = 1 \\\\\n",
    "F_2 = 1 \\\\\n",
    "F_3 = 2 \\\\\n",
    "F_4 = 3 \\\\\n",
    "F_5 = 5 \\\\\n",
    "F_6 = 8 \\\\\n",
    "F_7 = 13 \\\\\n",
    "F_8 = 21 \\\\\n",
    "F_9 = 34 \\\\\n",
    "F_{10} = 55 \\\\\n",
    "F_{11} = 89 \\\\\n",
    "F_{12} = 144 \\\\\n",
    "\\end{eqnarray*}\n",
    "\n",
    "The 12th term, $F_{12}$, is the first term to contain three digits.\n",
    "\n",
    "What is the index of the first term in the Fibonacci sequence to contain 1000\n",
    "digits?\n",
    "\n"
   ]
  },
  {
   "cell_type": "markdown",
   "metadata": {},
   "source": [
    "### A:\n",
    "\n"
   ]
  },
  {
   "cell_type": "markdown",
   "metadata": {},
   "source": [
    "Consider the formula for the $n$th Fibonacci number.\n",
    "\n",
    "$$ F_n = \\frac{\\varphi^n-(-\\varphi)^{-n}}{\\sqrt{5}} $$\n",
    "\n",
    "where $\\varphi=\\frac{1+\\sqrt{5}}{2}$. There's a useful simplification we can\n",
    "make if we look closely at the second term and substitute\n",
    "$-\\varphi^{-1}=-0.618$.\n",
    "\n",
    "\\begin{eqnarray*}\n",
    "F_n & = & \\frac{\\varphi^n}{\\sqrt{5}} - \\frac{(-\\varphi^{-1})^n}{\\sqrt{5}} \\\\\n",
    "    & = & \\frac{\\varphi^n}{\\sqrt{5}} - \\frac{(-0.618)^n}{\\sqrt{5}}\n",
    "\\end{eqnarray*}\n",
    "\n",
    "Since $ \\left| \\frac{(-0.618)^n}{\\sqrt{5}} \\right| < \\frac{1}{2} $ for all\n",
    "$n\\geq0$, we can eliminate the second term and round to the nearest integer\n",
    "with either the nearest integer function or the floor function.\n",
    "\n",
    "\\begin{eqnarray*}\n",
    "F_n & = & \\left[ \\frac{\\varphi^n}{\\sqrt{5}} \\right] \\\\\n",
    "    & = & \\lfloor \\frac{\\varphi^n}{\\sqrt{5}} + \\frac{1}{2} \\rfloor\n",
    "\\end{eqnarray*}\n",
    "\n",
    "If we want a number above a lower bound $L$, then $F_n\\geq L$.\n",
    "\n",
    "\\begin{eqnarray*}\n",
    "\\frac{\\varphi^n}{\\sqrt{5}} & \\geq & L \\\\\n",
    "                 \\varphi^n & \\geq & \\sqrt{5}\\cdot L \\\\\n",
    "               n\\ln\\varphi & \\geq & \\frac{1}{2}\\ln5+\\ln L \\\\\n",
    "                         n & \\geq & \\frac{\\frac{1}{2}\\ln5+\\ln L}\n",
    "                                         {\\ln\\varphi} \\\\\n",
    "                         n & =    & \\lceil \\frac{\\frac{1}{2}\\ln5 + \\ln L}\n",
    "                                                {\\ln\\varphi} \\rceil\n",
    "\\end{eqnarray*}\n",
    "\n"
   ]
  },
  {
   "cell_type": "code",
   "execution_count": 13,
   "metadata": {},
   "outputs": [],
   "source": [
    "def fibonacci_above(limit):\n",
    "    \"\"\"Find the index of the Fibonacci not below ``limit``.\"\"\"\n",
    "    phi = (1+sqrt(5))/2\n",
    "    return ceil((log(5)/2+log(limit)) / log(phi))\n",
    "\n",
    "assert fibonacci_above(10)==7\n",
    "assert fibonacci_above(100)==12"
   ]
  },
  {
   "cell_type": "markdown",
   "metadata": {},
   "source": [
    "The final run time is $O(1)$.\n",
    "\n"
   ]
  },
  {
   "cell_type": "code",
   "execution_count": 14,
   "metadata": {},
   "outputs": [
    {
     "name": "stdout",
     "output_type": "stream",
     "text": [
      "4782\n",
      "3.41 µs ± 36.6 ns per loop (mean ± std. dev. of 7 runs, 100000 loops each)\n"
     ]
    }
   ],
   "source": [
    "print(fibonacci_above(10**999))\n",
    "%timeit fibonacci_above(10**999)"
   ]
  },
  {
   "cell_type": "markdown",
   "metadata": {},
   "source": [
    "## 26 Reciprocal cycles\n",
    "\n"
   ]
  },
  {
   "cell_type": "markdown",
   "metadata": {},
   "source": [
    "### Q:\n",
    "\n"
   ]
  },
  {
   "cell_type": "markdown",
   "metadata": {},
   "source": [
    "A unit fraction contains 1 in the numerator. The decimal representation of the\n",
    "unit fractions with denominators 2 to 10 are given:\n",
    "\n",
    "1/2\t= \t0.5\n",
    "1/3\t= \t0.(3)\n",
    "1/4\t= \t0.25\n",
    "1/5\t= \t0.2\n",
    "1/6\t= \t0.1(6)\n",
    "1/7\t= \t0.(142857)\n",
    "1/8\t= \t0.125\n",
    "1/9\t= \t0.(1)\n",
    "1/10\t= \t0.1\n",
    "\n",
    "Where 0.1(6) means 0.166666&#x2026;, and has a 1-digit recurring cycle. It can be\n",
    "seen that 1/7 has a 6-digit recurring cycle.\n",
    "\n",
    "Find the value of d < 1000 for which 1/d contains the longest recurring cycle in\n",
    "its decimal fraction part.\n",
    "\n"
   ]
  },
  {
   "cell_type": "markdown",
   "metadata": {},
   "source": [
    "### A:\n",
    "\n"
   ]
  },
  {
   "cell_type": "markdown",
   "metadata": {},
   "source": [
    "Let $1/d$ be a unit fraction that contains a repeating cycle\n",
    "with a period $n$-digits long. Let's say we know $d$ but want to know what\n",
    "and how long the cycle is.\n",
    "\n",
    "\\begin{eqnarray*}\n",
    "       1/d & = & 0.(a_1a_2\\ldots a_n) \\\\\n",
    "    10^n/d & = & a_1a_2\\ldots a_n.(a_1a_2\\ldots a_n) \\\\\n",
    "(10^n-1)/d & = & a_1a_2\\ldots a_n\n",
    "\\end{eqnarray*}\n",
    "\n",
    "We don't know $n$, but we know that $a_1a_2\\ldots a_n$ must be an integer.\n",
    "Therefore, we need to find the smallest $n$ such that $d|10^n-1$. This is\n",
    "pretty straightforward. However, what if $1/d$ isn't repeating? Do we even\n",
    "need to find those? In fact, we don't. Any repeating decimal that doesn't have\n",
    "the above form won't be the longest, and $d$ is always prime. What we are\n",
    "looking for are called the [full reptend primes](https://en.wikipedia.org/wiki/Full_reptend_prime). A full reptend prime $p$\n",
    "produces a repeating decimal $1/p=0.(a_1a_2\\ldots a_{p-1})$, which is the\n",
    "longest possible repeating decimal sequence for any reciprocal, relative to its\n",
    "size, of course.\n",
    "\n",
    "So in order to find the longest repeating reciprocal, we need to sieve the\n",
    "primes. I'll use the Sieve of Eratosthenes (see [problem 5](001.md)) to do so. Now to find\n",
    "the longest repeating decimal, we simply must find the last full reptend prime\n",
    "below 1000. Note the special case $n < 8$. Look back at the problem statement\n",
    "if it isn't clear why we need to add that.\n",
    "\n"
   ]
  },
  {
   "cell_type": "code",
   "execution_count": 15,
   "metadata": {},
   "outputs": [
    {
     "ename": "ModuleNotFoundError",
     "evalue": "No module named 'euler'",
     "output_type": "error",
     "traceback": [
      "\u001b[0;31m---------------------------------------------------------------------------\u001b[0m",
      "\u001b[0;31mModuleNotFoundError\u001b[0m                       Traceback (most recent call last)",
      "\u001b[0;32m<ipython-input-15-35a8b035846e>\u001b[0m in \u001b[0;36m<module>\u001b[0;34m\u001b[0m\n\u001b[0;32m----> 1\u001b[0;31m \u001b[0;32mfrom\u001b[0m \u001b[0meuler\u001b[0m \u001b[0;32mimport\u001b[0m \u001b[0mesieve\u001b[0m\u001b[0;34m\u001b[0m\u001b[0;34m\u001b[0m\u001b[0m\n\u001b[0m\u001b[1;32m      2\u001b[0m \u001b[0;34m\u001b[0m\u001b[0m\n\u001b[1;32m      3\u001b[0m \u001b[0;32mdef\u001b[0m \u001b[0mlast_frp\u001b[0m\u001b[0;34m(\u001b[0m\u001b[0mn\u001b[0m\u001b[0;34m,\u001b[0m\u001b[0mprimes\u001b[0m\u001b[0;34m=\u001b[0m\u001b[0;32mNone\u001b[0m\u001b[0;34m)\u001b[0m\u001b[0;34m:\u001b[0m\u001b[0;34m\u001b[0m\u001b[0;34m\u001b[0m\u001b[0m\n\u001b[1;32m      4\u001b[0m     \"\"\"Find the last full reptend prime less than ``n``. Optionally takes a list\n\u001b[1;32m      5\u001b[0m     \u001b[0mof\u001b[0m \u001b[0mprimes\u001b[0m \u001b[0;32mas\u001b[0m \u001b[0man\u001b[0m \u001b[0margument\u001b[0m\u001b[0;34m.\u001b[0m\u001b[0;34m\u001b[0m\u001b[0;34m\u001b[0m\u001b[0m\n",
      "\u001b[0;31mModuleNotFoundError\u001b[0m: No module named 'euler'"
     ]
    }
   ],
   "source": [
    "from euler import esieve\n",
    "\n",
    "def last_frp(n,primes=None):\n",
    "    \"\"\"Find the last full reptend prime less than ``n``. Optionally takes a list\n",
    "    of primes as an argument.\n",
    "    \"\"\"\n",
    "    if n<8:\n",
    "        return 3 if n>3 else None\n",
    "\n",
    "    if primes is None:\n",
    "        primes = esieve(n)\n",
    "\n",
    "    for p in primes[::-1]:\n",
    "        period = 1\n",
    "        while (10**period-1)%p!=0:\n",
    "            period += 1\n",
    "        if p-1 == period:\n",
    "            return p\n",
    "\n",
    "assert last_frp(10)==7\n",
    "assert last_frp(100)==97"
   ]
  },
  {
   "cell_type": "markdown",
   "metadata": {},
   "source": [
    "The algorithmic complexity should be the same as the Sieve of Eratosthenes,\n",
    "$O(n\\log\\log n)$.\n",
    "\n"
   ]
  },
  {
   "cell_type": "code",
   "execution_count": null,
   "metadata": {},
   "outputs": [],
   "source": [
    "print(last_frp(1000))\n",
    "%timeit last_frp(1000)"
   ]
  },
  {
   "cell_type": "markdown",
   "metadata": {},
   "source": [
    "The complexity scales well to the higher upper bound given by [hackerrank](https://www.hackerrank.com/contests/projecteuler/challenges/euler026/problem).\n",
    "\n"
   ]
  },
  {
   "cell_type": "code",
   "execution_count": null,
   "metadata": {},
   "outputs": [],
   "source": [
    "print(last_frp(10000))\n",
    "%timeit last_frp(10000)"
   ]
  },
  {
   "cell_type": "markdown",
   "metadata": {},
   "source": [
    "## 27 Quadratic primes\n",
    "\n"
   ]
  },
  {
   "cell_type": "markdown",
   "metadata": {},
   "source": [
    "### Q:\n",
    "\n"
   ]
  },
  {
   "cell_type": "markdown",
   "metadata": {},
   "source": [
    "Euler discovered the remarkable quadratic formula:\n",
    "\n",
    "$$ n^2+n+41 $$\n",
    "\n",
    "It turns out that the formula will produce 40 primes for the consecutive integer\n",
    "values $0\\leq n\\leq39$. However, when $n=40$, $40^2+40+41=40(40+1)+41$ is\n",
    "divisible by 41, and certainly when $n=41$,$41^2+41+41$ is clearly divisible\n",
    "by 41.\n",
    "\n",
    "The incredible formula $n^2-79n+1601$ was discovered, which produces 80 primes\n",
    "for the consecutive values $0\\leq n\\leq79$. The product of the coefficients,\n",
    "−79 and 1601, is −126479.\n",
    "\n",
    "Considering quadratics of the form:\n",
    "\n",
    "$n2+an+b$, where $|a| < 1000$ and $|b|\\leq1000$\n",
    "\n",
    "where $|n|$ is the modulus/absolute value of $n$\n",
    "e.g. $|11|=11$ and $|−4|=4$\n",
    "\n",
    "Find the product of the coefficients, $a$ and $b$, for the quadratic\n",
    "expression that produces the maximum number of primes for consecutive values of\n",
    "$n$, starting with $n=0$.\n",
    "\n"
   ]
  },
  {
   "cell_type": "markdown",
   "metadata": {},
   "source": [
    "### A:\n",
    "\n"
   ]
  },
  {
   "cell_type": "markdown",
   "metadata": {},
   "source": [
    "For $n=0$, we have\n",
    "\n",
    "\\begin{eqnarray*}\n",
    "0^2 + a\\cdot 0 + b & = & p \\\\\n",
    "                 b & = & p\n",
    "\\end{eqnarray*}\n",
    "\n",
    "where $p$ is prime. Since $b=p$, $b$ is also prime. For $n=1$ we have\n",
    "\n",
    "\\begin{eqnarray*}\n",
    "1^2 + a\\cdot 1 + b & = & p \\\\\n",
    "         1 + a + b & = & p\n",
    "\\end{eqnarray*}\n",
    "\n",
    "Since $b$ must be odd, $b+1$ must be even, and $a$ must be odd.\n",
    "Additionally, $a > -b$. With our search space reduced, we simply must use\n",
    "brute force search to find the answer.\n",
    "\n"
   ]
  },
  {
   "cell_type": "code",
   "execution_count": 16,
   "metadata": {},
   "outputs": [
    {
     "ename": "ModuleNotFoundError",
     "evalue": "No module named 'euler'",
     "output_type": "error",
     "traceback": [
      "\u001b[0;31m---------------------------------------------------------------------------\u001b[0m",
      "\u001b[0;31mModuleNotFoundError\u001b[0m                       Traceback (most recent call last)",
      "\u001b[0;32m<ipython-input-16-5b6120018a75>\u001b[0m in \u001b[0;36m<module>\u001b[0;34m\u001b[0m\n\u001b[0;32m----> 1\u001b[0;31m \u001b[0;32mfrom\u001b[0m \u001b[0meuler\u001b[0m \u001b[0;32mimport\u001b[0m \u001b[0mesieve\u001b[0m\u001b[0;34m,\u001b[0m \u001b[0mis_prime\u001b[0m\u001b[0;34m\u001b[0m\u001b[0;34m\u001b[0m\u001b[0m\n\u001b[0m\u001b[1;32m      2\u001b[0m \u001b[0;34m\u001b[0m\u001b[0m\n\u001b[1;32m      3\u001b[0m \u001b[0mlimit\u001b[0m \u001b[0;34m=\u001b[0m \u001b[0;36m1000\u001b[0m\u001b[0;34m\u001b[0m\u001b[0;34m\u001b[0m\u001b[0m\n\u001b[1;32m      4\u001b[0m \u001b[0mprimes\u001b[0m \u001b[0;34m=\u001b[0m \u001b[0mesieve\u001b[0m\u001b[0;34m(\u001b[0m\u001b[0mlimit\u001b[0m\u001b[0;34m+\u001b[0m\u001b[0;36m1\u001b[0m\u001b[0;34m)\u001b[0m\u001b[0;34m\u001b[0m\u001b[0;34m\u001b[0m\u001b[0m\n\u001b[1;32m      5\u001b[0m \u001b[0mnmax\u001b[0m \u001b[0;34m=\u001b[0m \u001b[0;36m0\u001b[0m\u001b[0;34m\u001b[0m\u001b[0;34m\u001b[0m\u001b[0m\n",
      "\u001b[0;31mModuleNotFoundError\u001b[0m: No module named 'euler'"
     ]
    }
   ],
   "source": [
    "from euler import esieve, is_prime\n",
    "\n",
    "limit = 1000\n",
    "primes = esieve(limit+1)\n",
    "nmax = 0\n",
    "for b in primes:\n",
    "    for a in range(-b+2,limit,2):\n",
    "        n = 1\n",
    "        while is_prime(n*n + a*n + b):\n",
    "            n += 1\n",
    "        n += -1\n",
    "        if n >= nmax:\n",
    "            nmax = n\n",
    "            p = (a,b)\n",
    "\n",
    "print(nmax, p)\n",
    "print(p[0]*p[1])"
   ]
  },
  {
   "cell_type": "markdown",
   "metadata": {},
   "source": [
    "## 28 Number spiral diagonals\n",
    "\n"
   ]
  },
  {
   "cell_type": "markdown",
   "metadata": {},
   "source": [
    "### Q:\n",
    "\n"
   ]
  },
  {
   "cell_type": "markdown",
   "metadata": {},
   "source": [
    "Starting with the number 1 and moving to the right in a clockwise direction a 5\n",
    "by 5 spiral is formed as follows:\n",
    "\n",
    "    21 22 23 24 25\n",
    "    20  7  8  9 10\n",
    "    19  6  1  2 11\n",
    "    18  5  4  3 12\n",
    "    17 16 15 14 13\n",
    "\n",
    "It can be verified that the sum of the numbers on the diagonals is 101.\n",
    "\n",
    "What is the sum of the numbers on the diagonals in a 1001 by 1001 spiral formed\n",
    "in the same way?\n",
    "\n"
   ]
  },
  {
   "cell_type": "markdown",
   "metadata": {},
   "source": [
    "### A:\n",
    "\n"
   ]
  },
  {
   "cell_type": "markdown",
   "metadata": {},
   "source": [
    "Notice how the top right corner of each minor square is the square of an odd\n",
    "integer ($1^2,3^2,5^2,\\ldots$) corresponding to the size of the square. So if\n",
    "we consider an arbitrary $n\\times n$ spiral matrix, we can write all of the\n",
    "corner values in terms of the size.\n",
    "\n",
    "$$\\begin{bmatrix}\n",
    "    c_2    & \\dots  & c_1    \\\\\n",
    "    \\vdots & \\ddots & \\vdots \\\\\n",
    "    c_3    & \\dots  & c_4 \n",
    "  \\end{bmatrix} $$\n",
    "\n",
    "\\begin{eqnarray*}\n",
    "c_1 & = & n^2 \\\\\n",
    "c_2 & = & n^2 - (n-1) \\\\\n",
    "c_3 & = & n^2 - 2(n-1) \\\\\n",
    "c_4 & = & n^2 - 3(n-1) \\\\\n",
    "C   & = & 4n^2 - 6n + 6\n",
    "\\end{eqnarray*}\n",
    "\n"
   ]
  },
  {
   "cell_type": "code",
   "execution_count": 17,
   "metadata": {},
   "outputs": [
    {
     "name": "stdout",
     "output_type": "stream",
     "text": [
      "669171001\n"
     ]
    }
   ],
   "source": [
    "n = 1001\n",
    "count = 1\n",
    "for i in range(3,n+1,2):\n",
    "    count += 4*i*i - 6*i + 6\n",
    "print(count)"
   ]
  },
  {
   "cell_type": "markdown",
   "metadata": {},
   "source": [
    "## 29 Distinct powers\n",
    "\n"
   ]
  },
  {
   "cell_type": "markdown",
   "metadata": {},
   "source": [
    "### Q:\n",
    "\n"
   ]
  },
  {
   "cell_type": "markdown",
   "metadata": {},
   "source": [
    "Consider all integer combinations of $a^b$ for $2\\leq a\\leq5$ and\n",
    "$2\\leq b\\leq5$:\n",
    "\n",
    "$$\n",
    "2^2=4, 2^3=8, 2^4=16, 2^5=32 \\\\\n",
    "3^2=9, 3^3=27, 3^4=81, 3^5=243 \\\\\n",
    "4^2=16, 4^3=64, 4^4=256, 4^5=1024 \\\\\n",
    "5^2=25, 5^3=125, 5^4=625, 5^5=3125\n",
    "$$\n",
    "\n",
    "If they are then placed in numerical order, with any repeats removed, we get the\n",
    "following sequence of 15 distinct terms:\n",
    "\n",
    "4, 8, 9, 16, 25, 27, 32, 64, 81, 125, 243, 256, 625, 1024, 3125\n",
    "\n",
    "How many distinct terms are in the sequence generated by $a^b$ for\n",
    "$2\\leq a\\leq100$ and $2\\leq b\\leq100$?\n",
    "\n"
   ]
  },
  {
   "cell_type": "markdown",
   "metadata": {},
   "source": [
    "### A:\n",
    "\n"
   ]
  },
  {
   "cell_type": "markdown",
   "metadata": {},
   "source": [
    "Easy by brute force and a set.\n",
    "\n"
   ]
  },
  {
   "cell_type": "code",
   "execution_count": 18,
   "metadata": {},
   "outputs": [
    {
     "name": "stdout",
     "output_type": "stream",
     "text": [
      "9183\n"
     ]
    }
   ],
   "source": [
    "powers = set()\n",
    "for a in range(2,101):\n",
    "    for b in range(2,101):\n",
    "        powers.add(a**b)\n",
    "print(len(powers))"
   ]
  },
  {
   "cell_type": "markdown",
   "metadata": {},
   "source": [
    "## 30 Digit fifth powers\n",
    "\n"
   ]
  },
  {
   "cell_type": "markdown",
   "metadata": {},
   "source": [
    "### Q:\n",
    "\n"
   ]
  },
  {
   "cell_type": "markdown",
   "metadata": {},
   "source": [
    "Surprisingly there are only three numbers that can be written as the sum of\n",
    "fourth powers of their digits:\n",
    "\n",
    "\\begin{eqnarray*}\n",
    "1634 = 1^4 + 6^4 + 3^4 + 4^4 \\\\\n",
    "8208 = 8^4 + 2^4 + 0^4 + 8^4 \\\\\n",
    "9474 = 9^4 + 4^4 + 7^4 + 4^4 \\\\\n",
    "\\end{eqnarray*}\n",
    "\n",
    "As $1 = 1^4$ is not a sum it is not included.\n",
    "\n",
    "The sum of these numbers is 1634 + 8208 + 9474 = 19316.\n",
    "\n",
    "Find the sum of all the numbers that can be written as the sum of fifth powers\n",
    "of their digits.\n",
    "\n"
   ]
  },
  {
   "cell_type": "markdown",
   "metadata": {},
   "source": [
    "### A:\n",
    "\n"
   ]
  },
  {
   "cell_type": "markdown",
   "metadata": {},
   "source": [
    "This won't be difficult once we know a range of candidate numbers. Let $N$ be\n",
    "an $n$ digit number.\n",
    "\n",
    "$$ 10^{n-1} \\leq N < 10^n $$\n",
    "\n",
    "And let the sum of the fifth powers of the digits be equal to $N$.\n",
    "\n",
    "$$ N = d_1d_2\\dots d_n = d_1^5 + d_2^5 + \\dots + d_n^5 $$\n",
    "\n",
    "A digit can only take values $0,1,\\dots,9$ so that enforces another upper\n",
    "bound.\n",
    "\n",
    "$$ N \\leq n(9^5) = 59049n $$\n",
    "\n",
    "And we get a new range for $N$.\n",
    "\n",
    "$$ 10^{n-1} \\leq N \\leq 59049n $$\n",
    "\n",
    "Looking at a table of values for the bounds of $N$, it is clear that there\n",
    "cannot be solutions above 354294. Thus, we have a ceiling to iterate to.\n",
    "\n",
    "| n|lower|upper|\n",
    "|---|---|---|\n",
    "| 2|10|118098|\n",
    "| 3|100|177147|\n",
    "| 4|1000|236196|\n",
    "| 5|10000|295245|\n",
    "| 6|100000|354294|\n",
    "| 7|1000000|413343|\n",
    "\n"
   ]
  },
  {
   "cell_type": "code",
   "execution_count": 20,
   "metadata": {},
   "outputs": [],
   "source": [
    "def digit_power_sums(p):\n",
    "    \"\"\"Find all the numbers whose digits to the ``p``th power is that number.\"\"\"\n",
    "    N = []\n",
    "    power = [i**p for i in range(0,10)]\n",
    "\n",
    "    n = 2\n",
    "    limit = n*power[-1]\n",
    "    while 10**(n-1) < limit:\n",
    "        n += 1\n",
    "        limit = n*power[-1]\n",
    "\n",
    "    for i in range(10,limit+1):\n",
    "        if sum([power[int(d)] for d in str(i)]) == i:\n",
    "            N += [i]\n",
    "\n",
    "    return N\n",
    "\n",
    "assert digit_power_sums(4) == [1634, 8208, 9474]"
   ]
  },
  {
   "cell_type": "code",
   "execution_count": 21,
   "metadata": {},
   "outputs": [
    {
     "name": "stdout",
     "output_type": "stream",
     "text": [
      "[4150, 4151, 54748, 92727, 93084, 194979]\n",
      "443839\n",
      "520 ms ± 25.3 ms per loop (mean ± std. dev. of 7 runs, 1 loop each)\n"
     ]
    }
   ],
   "source": [
    "N = digit_power_sums(5)\n",
    "print(N)\n",
    "print(sum(N))\n",
    "%timeit digit_power_sums(5)"
   ]
  },
  {
   "cell_type": "code",
   "execution_count": null,
   "metadata": {},
   "outputs": [],
   "source": []
  }
 ],
 "metadata": {
  "kernelspec": {
   "display_name": "Python 3",
   "language": "python",
   "name": "python3"
  },
  "language_info": {
   "codemirror_mode": {
    "name": "ipython",
    "version": 3
   },
   "file_extension": ".py",
   "mimetype": "text/x-python",
   "name": "python",
   "nbconvert_exporter": "python",
   "pygments_lexer": "ipython3",
   "version": "3.7.3"
  },
  "org": null
 },
 "nbformat": 4,
 "nbformat_minor": 1
}
