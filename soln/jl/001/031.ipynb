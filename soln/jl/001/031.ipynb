{
 "cells": [
  {
   "cell_type": "markdown",
   "metadata": {},
   "source": [
    "\n",
    "# Table of Contents\n",
    "\n",
    "\n",
    "\n",
    "Initialize Python session with imports.\n",
    "\n"
   ]
  },
  {
   "cell_type": "code",
   "execution_count": 1,
   "metadata": {},
   "outputs": [],
   "source": [
    "from bitarray import bitarray\n",
    "from collections.abc import Iterable\n",
    "from functools import reduce\n",
    "from operator import mul\n",
    "import numpy as np\n",
    "from math import ceil, log10\n",
    "from random import randint\n",
    "import timeit"
   ]
  },
  {
   "cell_type": "markdown",
   "metadata": {},
   "source": [
    "## 31 Coin sums\n",
    "\n"
   ]
  },
  {
   "cell_type": "markdown",
   "metadata": {},
   "source": [
    "### Q:\n",
    "\n"
   ]
  },
  {
   "cell_type": "markdown",
   "metadata": {},
   "source": [
    "In England the currency is made up of pound, £, and pence, p, and there are\n",
    "eight coins in general circulation:\n",
    "\n",
    "1p, 2p, 5p, 10p, 20p, 50p, £1 (100p) and £2 (200p).\n",
    "It is possible to make £2 in the following way:\n",
    "\n",
    "1×£1 + 1×50p + 2×20p + 1×5p + 1×2p + 3×1p\n",
    "How many different ways can £2 be made using any number of coins?\n",
    "\n"
   ]
  },
  {
   "cell_type": "markdown",
   "metadata": {},
   "source": [
    "### A:\n",
    "\n"
   ]
  },
  {
   "cell_type": "markdown",
   "metadata": {},
   "source": [
    "This is best solved with dynamic programming. I'll illustrate how this algorithm\n",
    "works with a smaller problem. Consider the vector `S` `=[1,2,3,4,5]`. How many\n",
    "ways are there to add up elements of `S` to total 5, repeats allowed? Lets say\n",
    "we already decided to use 3. This gives us a smaller subproblem: how many ways\n",
    "are there to add up elements of `S` to total 5-3? Starting from 1 we can build a\n",
    "list of ways, `w`. For each element, `c`, in the vector, we count the number\n",
    "ways to build `i` from elements less than or equal to `c` and add the total to\n",
    "`w[i]`. Conveniently, that total must be equal to `w[i-c]` if we iterate through\n",
    "`S` in order. If we initialize `w[0]=1` it is easy to do this with two nested\n",
    "loops.\n",
    "\n",
    "| `w[0]`|`w[1]`|`w[2]`|`w[3]`|`w[4]`|`w[5]`|\n",
    "|---|---|---|---|---|---|\n",
    "| 1|0|0|0|0|0|\n",
    "\n",
    "Starting with 1, every `w[i-1]=1`.\n",
    "\n",
    "| `w[0]`|`w[1]`|`w[2]`|`w[3]`|`w[4]`|`w[5]`|\n",
    "|---|---|---|---|---|---|\n",
    "| 1|1|1|1|1|1|\n",
    "\n",
    "Moving on to 2, there are more ways to make the sums. `w[2-2]=1` so we add 1\n",
    "to `w[2]` (`w[2] <- w[2]+1`). The same is done with `w[3]`. `w[4-2]=2` so we add\n",
    "2 to `w[4]` (`w[4] <- w[4]+2`). \n",
    "\n",
    "| `w[0]`|`w[1]`|`w[2]`|`w[3]`|`w[4]`|`w[5]`|\n",
    "|---|---|---|---|---|---|\n",
    "| 1|1|2|2|3|3|\n",
    "\n",
    "The same for 3.\n",
    "\n",
    "| `w[0]`|`w[1]`|`w[2]`|`w[3]`|`w[4]`|`w[5]`|\n",
    "|---|---|---|---|---|---|\n",
    "| 1|1|2|3|4|5|\n",
    "\n",
    "And 4.\n",
    "\n",
    "| `w[0]`|`w[1]`|`w[2]`|`w[3]`|`w[4]`|`w[5]`|\n",
    "|---|---|---|---|---|---|\n",
    "| 1|1|2|3|5|6|\n",
    "\n",
    "And 5.\n",
    "\n",
    "| `w[0]`|`w[1]`|`w[2]`|`w[3]`|`w[4]`|`w[5]`|\n",
    "|---|---|---|---|---|---|\n",
    "| 1|1|2|3|5|7|\n",
    "\n"
   ]
  },
  {
   "cell_type": "code",
   "execution_count": 1,
   "metadata": {},
   "outputs": [],
   "source": [
    "def change_combinations(coins,value):\n",
    "    \"\"\"Find the number of ways to make ``value`` from the coins in ``coins``,\n",
    "    repetitions allowed.\"\"\"\n",
    "    ways = [0]*(value+1)\n",
    "    ways[0] = 1\n",
    "    for c in coins:\n",
    "        for i in range(c,value+1):\n",
    "            ways[i] += ways[i-c]\n",
    "    return ways[-1]\n",
    "\n",
    "assert change_combinations([1,2,3,4,5],5)==7"
   ]
  },
  {
   "cell_type": "markdown",
   "metadata": {},
   "source": [
    "The algorithm runs quickly.\n",
    "\n"
   ]
  },
  {
   "cell_type": "code",
   "execution_count": 1,
   "metadata": {},
   "outputs": [
    {
     "name": "stdout",
     "output_type": "stream",
     "text": [
      "73682\n",
      "83.1 µs ± 1.64 µs per loop (mean ± std. dev. of 7 runs, 10000 loops each)"
     ]
    }
   ],
   "source": [
    "print(change_combinations([1,2,5,10,20,50,100,200],200))\n",
    "%timeit change_combinations([1,2,5,10,20,50,100,200],200)"
   ]
  },
  {
   "cell_type": "markdown",
   "metadata": {},
   "source": [
    "And scales well.\n",
    "\n"
   ]
  },
  {
   "cell_type": "code",
   "execution_count": 1,
   "metadata": {},
   "outputs": [
    {
     "name": "stdout",
     "output_type": "stream",
     "text": [
      "28311903609\n",
      "1.57 ms ± 50.7 µs per loop (mean ± std. dev. of 7 runs, 1000 loops each)"
     ]
    }
   ],
   "source": [
    "print(change_combinations([1,2,5,10,20,50,100,200,500,1000,2000],2000))\n",
    "%timeit change_combinations([1,2,5,10,20,50,100,200,500,1000,2000],2000)"
   ]
  },
  {
   "cell_type": "markdown",
   "metadata": {},
   "source": [
    "## 32 Pandigital products\n",
    "\n"
   ]
  },
  {
   "cell_type": "markdown",
   "metadata": {},
   "source": [
    "### Q:\n",
    "\n"
   ]
  },
  {
   "cell_type": "markdown",
   "metadata": {},
   "source": [
    "We shall say that an n-digit number is pandigital if it makes use of all the\n",
    "digits 1 to n exactly once; for example, the 5-digit number, 15234, is 1 through\n",
    "5 pandigital.\n",
    "\n",
    "The product 7254 is unusual, as the identity, 39 × 186 = 7254, containing\n",
    "multiplicand, multiplier, and product is 1 through 9 pandigital.\n",
    "\n",
    "Find the sum of all products whose multiplicand/multiplier/product identity can\n",
    "be written as a 1 through 9 pandigital.\n",
    "\n",
    "HINT: Some products can be obtained in more than one way so be sure to only\n",
    "include it once in your sum.\n",
    "\n"
   ]
  },
  {
   "cell_type": "markdown",
   "metadata": {},
   "source": [
    "### A:\n",
    "\n"
   ]
  },
  {
   "cell_type": "markdown",
   "metadata": {},
   "source": [
    "Checking if a number is pandigital is trivial using a length equivalence check\n",
    "and a set equivalence check.\n",
    "\n"
   ]
  },
  {
   "cell_type": "code",
   "execution_count": 1,
   "metadata": {},
   "outputs": [],
   "source": [
    "def is_pandigital(n,digits={1,2,3,4,5,6,7,8,9}):\n",
    "    \"\"\"Check if a number ``n`` is pandigital with respect to a set of\n",
    "    ``digits``.\"\"\"\n",
    "    n = [int(d) for d in str(n)]\n",
    "    return (len(n) == len(digits) and set(n) == digits)\n",
    "\n",
    "d = {1,2,3,4}\n",
    "assert is_pandigital(1234,d) == True\n",
    "assert is_pandigital(4321,d) == True\n",
    "assert is_pandigital(1235,d) == False\n",
    "assert is_pandigital(1233,d) == False\n",
    "assert is_pandigital(12334,d) == False"
   ]
  },
  {
   "cell_type": "markdown",
   "metadata": {},
   "source": [
    "If $ab=c$ is pandigital, then $a,b,c$ must contain 9 total digits\n",
    "($d_a+d_b+d_c=9$). Below is a table for approximating $d_c$ if $d_a$ and\n",
    "$d_b$ are known. \n",
    "\n",
    "| $d_a$\\\\$d_b$|1|2|3|4|\n",
    "|---|---|---|---|---|\n",
    "| 1|1-2|2-3|3-4|4-5|\n",
    "| 2|-|3-4|4-5|5-6|\n",
    "| 3|-|-|5-6|6-7|\n",
    "| 4|-|-|-|7-8|\n",
    "\n",
    "We can modify this table to be the total number of digits, $d_a+d_b+d_c$.\n",
    "\n",
    "| $d_a$\\\\$d_b$|1|2|3|4|\n",
    "|---|---|---|---|---|\n",
    "| 1|3-4|5-6|7-8|9-10|\n",
    "| 2|-|7-8|9-10|11-12|\n",
    "| 3|-|-|11-12|13-14|\n",
    "| 4|-|-|-|15-16|\n",
    "\n",
    "Therefore, the only candidates for pandigital numbers are where the number of\n",
    "digits of $a,b$ are either 1 and 4, or 2 and 3. More generally, $a,b$ must\n",
    "contain exactly 5 digits between them, or $c$ must contain exactly 4 digits.\n",
    "Looking closely at the table, a pattern arises for the number of digits in\n",
    "$c$.\n",
    "\n",
    "| $n$|$d_a\\leq$|$d_c$|\n",
    "|---|---|---|\n",
    "| 3|1|1|\n",
    "| 4|1|2|\n",
    "| 5|2|2|\n",
    "| 6|2|3|\n",
    "| 7|3|3|\n",
    "| 8|3|4|\n",
    "| 9|4|4|\n",
    "\n",
    "Therefore $d_a\\leq \\lfloor (n-1)/2 \\rfloor$ and $d_c = \\lfloor n/2 \\rfloor$.\n",
    "We can also write bounds for $a,b,c$ as follows.\n",
    "\n",
    "$$ 1 < a \\leq \\sum_{i=1}^{d_a} (10-i)10^{d_a-i} $$\n",
    "\n",
    "$$ \\sum_{i=1}^{d_c} i10^{d_c-i} \\leq c \\leq \\sum_{i=1}^{d_c} (10-i)10^{d_c-i} $$\n",
    "\n",
    "And if we enforce $a<b$.\n",
    "\n",
    "$$ \\max \\{ a, \\lfloor \\frac{1}{a}\\sum_{i=1}^{d_c} i10^{d_c-i} \\rfloor \\}\n",
    "    < b \n",
    "    \\leq \\lfloor \\frac{1}{a}\\sum_{i=1}^{d_c} (10-i)10^{d_c-i} \\rfloor $$\n",
    "\n",
    "I check all the options in the bounds and add the products to a set.\n",
    "\n"
   ]
  },
  {
   "cell_type": "code",
   "execution_count": 1,
   "metadata": {},
   "outputs": [],
   "source": [
    "def pandigital_products(digits=[1,2,3,4,5,6,7,8,9]):\n",
    "    \"\"\"Find all the products such that the identity ``ab=c`` which is pandigital\n",
    "    for the list ``digits``.\"\"\"\n",
    "    if type(digits)==int:\n",
    "        digits = list(range(1,digits+1))\n",
    "\n",
    "    n = len(digits)\n",
    "    d_a = int((n-1)/2)\n",
    "    d_c = int(n/2)\n",
    "\n",
    "    c_min = sum([digits[i-1]*(10**(d_c-i)) for i in range(1,d_c+1)])\n",
    "    c_max = sum([digits[n-i]*(10**(d_c-i)) for i in range(1,d_c+1)])\n",
    "    a_max = sum([digits[n-i]*(10**(d_a-i)) for i in range(1,d_a+1)])\n",
    "\n",
    "    products = []\n",
    "    for a in range(2,a_max+1):\n",
    "        for b in range(max(a+1,int(c_min/a)),int(c_max/a)+1):\n",
    "            c = a*b\n",
    "            identity = str(a) + str(b) + str(c)\n",
    "            if is_pandigital(identity,set(digits)):\n",
    "                products += [c]\n",
    "    return products\n",
    "\n",
    "assert pandigital_products(4)==[12]\n",
    "assert pandigital_products(5)==[52]\n",
    "assert pandigital_products(6)==[162]"
   ]
  },
  {
   "cell_type": "markdown",
   "metadata": {},
   "source": [
    "The algorithm is a bit sluggish, probably because we iterated over so many\n",
    "numbers.\n",
    "\n"
   ]
  },
  {
   "cell_type": "code",
   "execution_count": 1,
   "metadata": {},
   "outputs": [
    {
     "name": "stdout",
     "output_type": "stream",
     "text": [
      "56370\n",
      "80.3 ms ± 1.22 ms per loop (mean ± std. dev. of 7 runs, 10 loops each)"
     ]
    }
   ],
   "source": [
    "print(sum(pandigital_products()))\n",
    "%timeit sum(pandigital_products())"
   ]
  },
  {
   "cell_type": "markdown",
   "metadata": {},
   "source": [
    "## 33 Digit cancelling fractions\n",
    "\n"
   ]
  },
  {
   "cell_type": "markdown",
   "metadata": {},
   "source": [
    "### Q:\n",
    "\n"
   ]
  },
  {
   "cell_type": "markdown",
   "metadata": {},
   "source": [
    "The fraction 49/98 is a curious fraction, as an inexperienced mathematician in\n",
    "attempting to simplify it may incorrectly believe that 49/98 = 4/8, which is\n",
    "correct, is obtained by cancelling the 9s.\n",
    "\n",
    "We shall consider fractions like, 30/50 = 3/5, to be trivial examples.\n",
    "\n",
    "There are exactly four non-trivial examples of this type of fraction, less than\n",
    "one in value, and containing two digits in the numerator and denominator.\n",
    "\n",
    "If the product of these four fractions is given in its lowest common terms, find\n",
    "the value of the denominator.\n",
    "\n"
   ]
  },
  {
   "cell_type": "markdown",
   "metadata": {},
   "source": [
    "### A:\n",
    "\n"
   ]
  },
  {
   "cell_type": "markdown",
   "metadata": {},
   "source": [
    "Kind of an easy problem, but there is a clever solution which has minimal\n",
    "iterations. Let's assume the fraction has the following form, where $i$ is the\n",
    "digit we \"cancel\" out. Multiplying this out we can solve for $i$ in terms of\n",
    "$a$ and $b$. \n",
    "\n",
    "\\begin{eqnarray*}\n",
    "    \\frac{10a + i}{10i + b} & = & \\frac{a}{b} \\\\\n",
    "                  10ab + ib & = & 10ia + ab \\\\\n",
    "                        9ab & = & i(10a - b) \\\\\n",
    "          \\frac{9ab}{10a-b} & = & i\n",
    "\\end{eqnarray*}\n",
    "\n",
    "where $ 1 \\leq a < b \\leq 9 $.\n",
    "\n",
    "Since $i$ must be a whole digit, we use `divmod` to get the whole number\n",
    "quotient and remainder. In total, we must iterate over $8(8+1)/2=36$\n",
    "combinations of $a,b$.\n",
    "\n"
   ]
  },
  {
   "cell_type": "code",
   "execution_count": 1,
   "metadata": {},
   "outputs": [
    {
     "name": "stdout",
     "output_type": "stream",
     "text": [
      "[(16, 64), (19, 95), (26, 65), (49, 98)]\n",
      "100.0"
     ]
    }
   ],
   "source": [
    "fractions = []\n",
    "prod = 1\n",
    "for b in range(1,10):\n",
    "    for a in range(1,b):\n",
    "        i, r = divmod(9*a*b,10*a-b)\n",
    "        if r==0 and i<10:\n",
    "            fractions += [(10*a+i,10*i+b)]\n",
    "            prod *= b/a\n",
    "print(fractions)\n",
    "print(prod)"
   ]
  },
  {
   "cell_type": "markdown",
   "metadata": {},
   "source": [
    "## 34 Digit factorials\n",
    "\n"
   ]
  },
  {
   "cell_type": "markdown",
   "metadata": {},
   "source": [
    "### Q:\n",
    "\n"
   ]
  },
  {
   "cell_type": "markdown",
   "metadata": {},
   "source": [
    "145 is a curious number, as 1! + 4! + 5! = 1 + 24 + 120 = 145.\n",
    "\n",
    "Find the sum of all numbers which are equal to the sum of the factorial of their\n",
    "digits.\n",
    "\n",
    "Note: as 1! = 1 and 2! = 2 are not sums they are not included.\n",
    "\n"
   ]
  },
  {
   "cell_type": "markdown",
   "metadata": {},
   "source": [
    "### A:\n",
    "\n"
   ]
  },
  {
   "cell_type": "markdown",
   "metadata": {},
   "source": [
    "These numbers are called [factorions](https://en.wikipedia.org/wiki/Factorion). There are only four factorions: 1, 2, 145,\n",
    "\n",
    "1.  Ignoring 1 and 2, the sum is 40730.\n",
    "\n"
   ]
  },
  {
   "cell_type": "markdown",
   "metadata": {},
   "source": [
    "## 35 Circular primes\n",
    "\n"
   ]
  },
  {
   "cell_type": "markdown",
   "metadata": {},
   "source": [
    "### Q:\n",
    "\n"
   ]
  },
  {
   "cell_type": "markdown",
   "metadata": {},
   "source": [
    "The number, 197, is called a circular prime because all rotations of the digits:\n",
    "197, 971, and 719, are themselves prime.\n",
    "\n",
    "There are thirteen such primes below 100: 2, 3, 5, 7, 11, 13, 17, 31, 37, 71,\n",
    "73, 79, and 97.\n",
    "\n",
    "How many circular primes are there below one million?\n",
    "\n"
   ]
  },
  {
   "cell_type": "markdown",
   "metadata": {},
   "source": [
    "### A:\n",
    "\n"
   ]
  },
  {
   "cell_type": "markdown",
   "metadata": {},
   "source": [
    "Firstly, here's a helper function to rotate integers.\n",
    "\n"
   ]
  },
  {
   "cell_type": "code",
   "execution_count": 1,
   "metadata": {},
   "outputs": [],
   "source": [
    "def rotate_int(n):\n",
    "    \"\"\"Find all rotations of the int ``n``.\"\"\"\n",
    "    n_str = str(n)\n",
    "    return np.array([int(n_str[i:]+n_str[:i]) for i in range(1,len(n_str))])\n",
    "\n",
    "assert(rotate_int(179)==[791,917]).all()"
   ]
  },
  {
   "cell_type": "markdown",
   "metadata": {},
   "source": [
    "This is easy to do with the Sieve of Eratosthenes (see problem 5). Note how I\n",
    "sieve up to $10^{\\lceil\\log_{10}n\\rceil}$ rather than $n$, making sure that\n",
    "every possible rotation is considered. This is necessary to handle cases where\n",
    "$n$ is not a power of 10.\n",
    "\n"
   ]
  },
  {
   "cell_type": "code",
   "execution_count": 1,
   "metadata": {},
   "outputs": [],
   "source": [
    "from euler import esieve\n",
    "\n",
    "def circular_primes(n):\n",
    "    \"\"\"Find all the circular primes less than ``n``.\"\"\"\n",
    "    # sieve all the primes that have at least as many digits as n\n",
    "    limit = 10**ceil(log10(n))\n",
    "    primes = esieve(limit)\n",
    "    # only check those primes less than n, and skip those that contain the\n",
    "    # digits 0,2,4,6,8\n",
    "    invalid = set('02468')\n",
    "    primes = {p for p in primes if not set(str(p)).intersection(invalid)}\n",
    "    circular = {2}\n",
    "    for p in primes:\n",
    "        if p not in circular and p<n:\n",
    "            rot = rotate_int(p)\n",
    "            if all([r in primes for r in rot]):\n",
    "                circular.add(p)\n",
    "                circular.update(rot[rot<n])\n",
    "    return circular\n",
    "\n",
    "assert circular_primes(100)=={2,3,5,7,11,13,17,31,37,71,73,79,97}\n",
    "assert circular_primes(97)=={2,3,5,7,11,13,17,31,37,71,73,79}"
   ]
  },
  {
   "cell_type": "markdown",
   "metadata": {},
   "source": [
    "The most significant savings in runtime were found by using sets and reducing\n",
    "their size by excluding even digits.\n",
    "\n"
   ]
  },
  {
   "cell_type": "code",
   "execution_count": 1,
   "metadata": {},
   "outputs": [
    {
     "name": "stdout",
     "output_type": "stream",
     "text": [
      "55\n",
      "123 ms ± 9.29 ms per loop (mean ± std. dev. of 7 runs, 10 loops each)"
     ]
    }
   ],
   "source": [
    "print(len(circular_primes(1000000)))\n",
    "%timeit len(circular_primes(1000000))"
   ]
  },
  {
   "cell_type": "markdown",
   "metadata": {},
   "source": [
    "## 36 Double-base palindromes\n",
    "\n"
   ]
  },
  {
   "cell_type": "markdown",
   "metadata": {},
   "source": [
    "### Q:\n",
    "\n"
   ]
  },
  {
   "cell_type": "markdown",
   "metadata": {},
   "source": [
    "The decimal number, 585 = 10010010012 (binary), is palindromic in both bases.\n",
    "\n",
    "Find the sum of all numbers, less than one million, which are palindromic in\n",
    "base 10 and base 2.\n",
    "\n",
    "(Please note that the palindromic number, in either base, may not include\n",
    "leading zeros.)\n",
    "\n"
   ]
  },
  {
   "cell_type": "markdown",
   "metadata": {},
   "source": [
    "### A:\n",
    "\n"
   ]
  },
  {
   "cell_type": "markdown",
   "metadata": {},
   "source": [
    "I'm going to generate all the palindromes in base 10 and check if they are\n",
    "palindromic in base 2. The following functions will check if a number is\n",
    "palindromic and generate all the base 10 palindromes with a given number of\n",
    "digits.\n",
    "\n"
   ]
  },
  {
   "cell_type": "code",
   "execution_count": 1,
   "metadata": {},
   "outputs": [],
   "source": [
    "def is_palindrome(n,b):\n",
    "    \"\"\"Check if an integer ``n`` is a palindrome in base ``b``.\"\"\"\n",
    "    rev = 0\n",
    "    k = n\n",
    "    while k > 0:\n",
    "        rev = b*rev + (k%b)\n",
    "        k //= b\n",
    "    return n == rev\n",
    "    \n",
    "assert is_palindrome(9009,10)\n",
    "assert is_palindrome(33,2)\n",
    "assert not is_palindrome(55,2)\n",
    "\n",
    "def pal_list(k):\n",
    "    \"\"\"Find all palindromic numbers with ``k`` digits.\"\"\"\n",
    "    j = (k+1)//2\n",
    "    if k%2==1:\n",
    "        return np.array([int(str(i)+str(i)[:-1][::-1])\n",
    "            for i in range(10**(j-1),10**j)],dtype=int)\n",
    "    else:\n",
    "        return np.array([int(str(i)+str(i)[::-1])\n",
    "            for i in range(10**(j-1),10**j)],dtype=int)\n",
    "\n",
    "assert len(pal_list(1))==9\n",
    "assert len(pal_list(2))==9\n",
    "assert len(pal_list(3))==90"
   ]
  },
  {
   "cell_type": "markdown",
   "metadata": {},
   "source": [
    "We know that a binary number starts with 1, so a binary palindrome ends with 1,\n",
    "making it odd. We only need to check odd numbers in our palindromes. Not sure\n",
    "a good `assert` statement to use here, but you get the point that it picked up\n",
    "\n",
    "1.  \n",
    "\n"
   ]
  },
  {
   "cell_type": "code",
   "execution_count": 1,
   "metadata": {},
   "outputs": [
    {
     "name": "stdout",
     "output_type": "stream",
     "text": [
      "[1, 3, 5, 7, 9, 33, 99, 313, 585, 717]"
     ]
    }
   ],
   "source": [
    "def decimal_binary_palindromes(n):\n",
    "    \"\"\"Find all numbers less than ``n`` that are palindromic in base 2 and 10\n",
    "    \"\"\"\n",
    "    dmax = ceil(log10(n-1))\n",
    "    palindromes = []\n",
    "    for k in range(1,dmax+1):\n",
    "        pal = pal_list(k)\n",
    "        pal = pal[pal%2==1]\n",
    "        pal = pal[pal<n]\n",
    "        palindromes += [p for p in pal if is_palindrome(p,2)]\n",
    "    return palindromes\n",
    "\n",
    "print(decimal_binary_palindromes(1000))"
   ]
  },
  {
   "cell_type": "markdown",
   "metadata": {},
   "source": [
    "I'd call this method good enough.\n",
    "\n"
   ]
  },
  {
   "cell_type": "code",
   "execution_count": 1,
   "metadata": {},
   "outputs": [
    {
     "name": "stdout",
     "output_type": "stream",
     "text": [
      "872187\n",
      "11.4 ms ± 701 µs per loop (mean ± std. dev. of 7 runs, 100 loops each)"
     ]
    }
   ],
   "source": [
    "print(sum(decimal_binary_palindromes(1000000)))\n",
    "%timeit sum(decimal_binary_palindromes(1000000))"
   ]
  },
  {
   "cell_type": "markdown",
   "metadata": {},
   "source": [
    "Shit, it even has sublinear scaling. Can't complain about that.\n",
    "\n"
   ]
  },
  {
   "cell_type": "code",
   "execution_count": 1,
   "metadata": {},
   "outputs": [
    {
     "name": "stdout",
     "output_type": "stream",
     "text": [
      "39347399\n",
      "151 ms ± 9.59 ms per loop (mean ± std. dev. of 7 runs, 10 loops each)"
     ]
    }
   ],
   "source": [
    "print(sum(decimal_binary_palindromes(100000000)))\n",
    "%timeit sum(decimal_binary_palindromes(100000000))"
   ]
  },
  {
   "cell_type": "markdown",
   "metadata": {},
   "source": [
    "## 37 Truncatable primes\n",
    "\n"
   ]
  },
  {
   "cell_type": "markdown",
   "metadata": {},
   "source": [
    "### Q:\n",
    "\n"
   ]
  },
  {
   "cell_type": "markdown",
   "metadata": {},
   "source": [
    "The number 3797 has an interesting property. Being prime itself, it is possible\n",
    "to continuously remove digits from left to right, and remain prime at each\n",
    "stage: 3797, 797, 97, and 7. Similarly we can work from right to left: 3797,\n",
    "379, 37, and 3.\n",
    "\n",
    "Find the sum of the only eleven primes that are both truncatable from left to\n",
    "right and right to left.\n",
    "\n",
    "NOTE: 2, 3, 5, and 7 are not considered to be truncatable primes.\n",
    "\n"
   ]
  },
  {
   "cell_type": "markdown",
   "metadata": {},
   "source": [
    "### A:\n",
    "\n"
   ]
  },
  {
   "cell_type": "markdown",
   "metadata": {},
   "source": [
    "This is similar to the circular primes problem. These primes are called\n",
    "[two-sided primes](https://oeis.org/A020994). We know there are only eleven, and what they are.\n",
    "\n"
   ]
  },
  {
   "cell_type": "code",
   "execution_count": 1,
   "metadata": {},
   "outputs": [
    {
     "name": "stdout",
     "output_type": "stream",
     "text": [
      "748317"
     ]
    }
   ],
   "source": [
    "tsp = [2, 3, 5, 7, 23, 37, 53, 73, 313, 317, 373, 797, 3137, 3797, 739397]\n",
    "print(sum(tsp[4:]))"
   ]
  },
  {
   "cell_type": "markdown",
   "metadata": {},
   "source": [
    "The only way to do this \"blindly\" is by iterating from 11 and checking every\n",
    "candidate for being prime, left prime, and right prime. I don't feel like doing\n",
    "this, so I'm going to use my omnipotence of A020994 to enforce an upper bound of\n",
    "one million.\n",
    "\n"
   ]
  },
  {
   "cell_type": "code",
   "execution_count": 1,
   "metadata": {},
   "outputs": [],
   "source": [
    "def two_sided_primes(n):\n",
    "    \"\"\"Find the two-sided primes less than ``n``.\"\"\"\n",
    "    if n<=23:\n",
    "        return []\n",
    "    primes = esieve(n)\n",
    "    # skip primes that contain the digits 0,2,4,6,8\n",
    "    invalid = set('02468')\n",
    "    primes = {p for p in primes if not set(str(p)).intersection(invalid)}\n",
    "    tsp = [23]\n",
    "    for p in primes:\n",
    "        dp = ceil(log10(p))\n",
    "        left = all([(p%(10**i) in primes) for i in range(1,dp)])\n",
    "        right = all([(p//(10**i) in primes) for i in range(1,dp)])\n",
    "        if left and right and p>10:\n",
    "            tsp += [p]\n",
    "    return tsp\n",
    "\n",
    "assert len(two_sided_primes(1000))==8"
   ]
  },
  {
   "cell_type": "markdown",
   "metadata": {},
   "source": [
    "It is kind of slow, but it's far better than trying to check tons of numbers for\n",
    "being prime.\n",
    "\n"
   ]
  },
  {
   "cell_type": "code",
   "execution_count": 1,
   "metadata": {},
   "outputs": [
    {
     "name": "stdout",
     "output_type": "stream",
     "text": [
      "748317\n",
      "137 ms ± 11.4 ms per loop (mean ± std. dev. of 7 runs, 10 loops each)"
     ]
    }
   ],
   "source": [
    "print(sum(two_sided_primes(1000000)))\n",
    "%timeit sum(two_sided_primes(1000000))"
   ]
  },
  {
   "cell_type": "markdown",
   "metadata": {},
   "source": [
    "## 38 Pandigital multiples\n",
    "\n"
   ]
  },
  {
   "cell_type": "markdown",
   "metadata": {},
   "source": [
    "### Q:\n",
    "\n"
   ]
  },
  {
   "cell_type": "markdown",
   "metadata": {},
   "source": [
    "Take the number 192 and multiply it by each of 1, 2, and 3:\n",
    "\n",
    "192 × 1 = 192\n",
    "192 × 2 = 384\n",
    "192 × 3 = 576\n",
    "\n",
    "By concatenating each product we get the 1 to 9 pandigital, 192384576. We will\n",
    "call 192384576 the concatenated product of 192 and (1,2,3)\n",
    "\n",
    "The same can be achieved by starting with 9 and multiplying by 1, 2, 3, 4, and\n",
    "5, giving the pandigital, 918273645, which is the concatenated product of 9 and\n",
    "(1,2,3,4,5).\n",
    "\n",
    "What is the largest 1 to 9 pandigital 9-digit number that can be formed as the\n",
    "concatenated product of an integer with (1,2, &#x2026; , n) where n > 1?\n",
    "\n"
   ]
  },
  {
   "cell_type": "markdown",
   "metadata": {},
   "source": [
    "### A:\n",
    "\n"
   ]
  },
  {
   "cell_type": "markdown",
   "metadata": {},
   "source": [
    "We already know how to check pandigital `str` and `int` (see problem 32). We\n",
    "need at least two multiples, so we can set an upper bound for n.\n",
    "\n",
    "n × 1 = &#x2026;\n",
    "n × 2 < 98765\n",
    "\n"
   ]
  },
  {
   "cell_type": "code",
   "execution_count": 1,
   "metadata": {},
   "outputs": [
    {
     "name": "stdout",
     "output_type": "stream",
     "text": [
      "932718654"
     ]
    }
   ],
   "source": [
    "def pandigital_multiples(digits=[1,2,3,4,5,6,7,8,9]):\n",
    "    \"\"\"Find all the numbers ``n`` for which their multiples concatenate to form\n",
    "    a number pandigital in ``digits``.\"\"\"\n",
    "    dmax = int((len(digits)+1)/2) # maximum number of digits for n\n",
    "    nmax = sum([digits[-1-i]*(10**(dmax-i-1)) for i in range(0,dmax)])\n",
    "    pan = []\n",
    "    for n in range(1,nmax+1):\n",
    "        n_str = str(n)\n",
    "        k = 2\n",
    "        while len(n_str)<len(digits):\n",
    "            n_str += str(k*n)\n",
    "            k += 1\n",
    "        if len(n_str)==len(digits) and is_pandigital(n_str,set(digits)):\n",
    "            pan += [n]\n",
    "    return pan\n",
    "\n",
    "n = pandigital_multiples()[-1]\n",
    "print(str(n)+str(2*n))"
   ]
  },
  {
   "cell_type": "markdown",
   "metadata": {},
   "source": [
    "## 39 Integer right triangles\n",
    "\n"
   ]
  },
  {
   "cell_type": "markdown",
   "metadata": {},
   "source": [
    "### Q:\n",
    "\n"
   ]
  },
  {
   "cell_type": "markdown",
   "metadata": {},
   "source": [
    "If p is the perimeter of a right angle triangle with integral length sides,\n",
    "{a,b,c}, there are exactly three solutions for p = 120.\n",
    "\n",
    "{20,48,52}, {24,45,51}, {30,40,50}\n",
    "\n",
    "For which value of p ≤ 1000, is the number of solutions maximised?\n",
    "\n"
   ]
  },
  {
   "cell_type": "markdown",
   "metadata": {},
   "source": [
    "### A:\n",
    "\n"
   ]
  },
  {
   "cell_type": "markdown",
   "metadata": {},
   "source": [
    "We can reuse the triples generator from [problem 9](./project-euler-001.md) to find all the triples for a\n",
    "given triangle perimeter. Then, we just iterate over all perimeters and take the\n",
    "$\\argmax$. We could save time by skipping the odd numbers.\n",
    "\n"
   ]
  },
  {
   "cell_type": "code",
   "execution_count": 1,
   "metadata": {},
   "outputs": [
    {
     "name": "stdout",
     "output_type": "stream",
     "text": [
      "840\n",
      "2 ms ± 145 µs per loop (mean ± std. dev. of 7 runs, 1000 loops each)"
     ]
    }
   ],
   "source": [
    "from euler import pythagorean_triples_from_sum\n",
    "\n",
    "assert len(pythagorean_triples_from_sum(120)[0])==3\n",
    "\n",
    "print(np.argmax([len(pythagorean_triples_from_sum(i)) for i in range(0,1001)]))\n",
    "%timeit np.argmax([len(pythagorean_triples_from_sum(i)) for i in range(0,1001)])"
   ]
  },
  {
   "cell_type": "markdown",
   "metadata": {},
   "source": [
    "## 40 Champernowne's constant\n",
    "\n"
   ]
  },
  {
   "cell_type": "markdown",
   "metadata": {},
   "source": [
    "### Q:\n",
    "\n"
   ]
  },
  {
   "cell_type": "markdown",
   "metadata": {},
   "source": [
    "An irrational decimal fraction is created by concatenating the positive\n",
    "integers:\n",
    "\n",
    "0.123456789101112131415161718192021&#x2026;\n",
    "\n",
    "It can be seen that the 12th digit of the fractional part is 1.\n",
    "\n",
    "If dn represents the nth digit of the fractional part, find the value of the\n",
    "following expression.\n",
    "\n",
    "$$d_1 \\times d_{10} \\times d_{100} \\times d_{1000} \\times d_{10000} \\times\n",
    "  d_{100000} \\times d_{1000000} $$\n",
    "\n"
   ]
  },
  {
   "cell_type": "markdown",
   "metadata": {},
   "source": [
    "### A:\n",
    "\n"
   ]
  },
  {
   "cell_type": "markdown",
   "metadata": {},
   "source": [
    "This is actually an exercise in digit counting. Consider the following table,\n",
    "which counts the number of digits in a range of numbers.\n",
    "\n",
    "| range|total decimals|\n",
    "|---|---|\n",
    "| $[1,9]$|$9$|\n",
    "| $[10,99]$|$180$|\n",
    "| $[100,999]$|$2700$|\n",
    "| $[1000,9999]$|$36000$|\n",
    "| &#x2026;|&#x2026;|\n",
    "| $[10^{k-1},10^k-1]$|$9(10^{k-1})k$|\n",
    "\n",
    "So to get the $i$th digit, we can use this power series. Let $S(k)$ be the\n",
    "total decimals in Champernowne's constant that are covered for numbers with\n",
    "$k$ or less digits.\n",
    "\n",
    "$$ S(k) = \\sum_{j=1} 9(10^{j-1})j $$\n",
    "\n",
    "Let $S(k) < i \\leq S(k+1) $. In other words, we know the $i$th digit belongs\n",
    "to a $k$ digit number. Then we find the number $n$ that contains our digit\n",
    "by dividing the remaining digit places $i-S(k)$ by the number of digits in the\n",
    "number. The remainder is the digit's place in $n$.\n",
    "\n",
    "$$ n = 10^k + \\lfloor (i-S(k)-1)/(k+1) \\rfloor $$\n",
    "\n"
   ]
  },
  {
   "cell_type": "code",
   "execution_count": 1,
   "metadata": {},
   "outputs": [],
   "source": [
    "def champernowne_digit(i,digits=None):\n",
    "    \"\"\"Find the ``n``th digit of Champernowne's constant.\"\"\"\n",
    "    if digits is None:\n",
    "        digits = [9*(10**(k-1))*k for k in range(1,ceil(log10(i))+2)]\n",
    "    k = 0\n",
    "    while i > digits[k]:\n",
    "        i -= digits[k]\n",
    "        k += 1\n",
    "    q, r = divmod(i-1,k+1)\n",
    "    return int(str(10**k+q)[r])\n",
    "\n",
    "for i in range(1,10):\n",
    "    assert champernowne_digit(i)==i\n",
    "assert champernowne_digit(10)==1\n",
    "assert champernowne_digit(12)==1"
   ]
  },
  {
   "cell_type": "markdown",
   "metadata": {},
   "source": [
    "This is extremely fast.\n",
    "\n"
   ]
  },
  {
   "cell_type": "code",
   "execution_count": 1,
   "metadata": {},
   "outputs": [
    {
     "name": "stdout",
     "output_type": "stream",
     "text": [
      "210\n",
      "17.2 µs ± 1.41 µs per loop (mean ± std. dev. of 7 runs, 100000 loops each)"
     ]
    }
   ],
   "source": [
    "print(reduce(mul,[champernowne_digit(10**i) for i in range(7)]))\n",
    "%timeit reduce(mul,[champernowne_digit(10**i) for i in range(7)])"
   ]
  },
  {
   "cell_type": "markdown",
   "metadata": {},
   "source": [
    "Simulating the hackerrank version, it remains as fast.\n",
    "\n"
   ]
  },
  {
   "cell_type": "code",
   "execution_count": 1,
   "metadata": {},
   "outputs": [
    {
     "name": "stdout",
     "output_type": "stream",
     "text": [
      "10080\n",
      "50 µs ± 128 ns per loop (mean ± std. dev. of 7 runs, 10000 loops each)"
     ]
    }
   ],
   "source": [
    "ii = [37179634687547126, 243570604996000042, 889412298717781865,\n",
    "      928015702768494271, 219144108876736854, 519463297996240891, \n",
    "      766406432258028844]\n",
    "print(reduce(mul,[champernowne_digit(i) for i in ii]))\n",
    "%timeit reduce(mul,[champernowne_digit(i) for i in ii])"
   ]
  }
 ],
 "metadata": {
  "kernelspec": {
   "display_name": "Python 3",
   "language": "python",
   "name": "python3"
  },
  "language_info": {
   "codemirror_mode": {
    "name": "ipython",
    "version": 3
   },
   "file_extension": ".py",
   "mimetype": "text/x-python",
   "name": "python",
   "nbconvert_exporter": "python",
   "pygments_lexer": "ipython3",
   "version": "3.7.3"
  },
  "org": null
 },
 "nbformat": 4,
 "nbformat_minor": 1
}
